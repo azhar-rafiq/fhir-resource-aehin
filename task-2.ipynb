{
 "cells": [
  {
   "cell_type": "markdown",
   "id": "ea2d83c1",
   "metadata": {},
   "source": [
    "# Create a patient FHIR resource"
   ]
  },
  {
   "cell_type": "code",
   "execution_count": 10,
   "id": "d14aba16",
   "metadata": {},
   "outputs": [],
   "source": [
    "from fhir.resources.R4B.patient import * \n",
    "from fhir.resources.R4B.contactpoint import * \n",
    "from fhir.resources.R4B.identifier import * \n",
    "from fhir.resources.R4B.humanname import * \n",
    "from fhir.resources.R4B.address import *"
   ]
  },
  {
   "cell_type": "markdown",
   "id": "93a8b1e8",
   "metadata": {},
   "source": [
    "# JSON"
   ]
  },
  {
   "cell_type": "code",
   "execution_count": 17,
   "id": "b7ae7b8b",
   "metadata": {},
   "outputs": [
    {
     "name": "stdout",
     "output_type": "stream",
     "text": [
      "{\n",
      "    \"resourceType\": \"Patient\",\n",
      "    \"identifier\": [\n",
      "        {\n",
      "            \"value\": \"haru.nami\"\n",
      "        }\n",
      "    ],\n",
      "    \"name\": [\n",
      "        {\n",
      "            \"text\": \"Haru Nami\",\n",
      "            \"family\": \"Nami\",\n",
      "            \"given\": [\n",
      "                \"Haru\"\n",
      "            ]\n",
      "        }\n",
      "    ],\n",
      "    \"telecom\": [\n",
      "        {\n",
      "            \"system\": \"phone\",\n",
      "            \"value\": \"(03) 5555 6789\",\n",
      "            \"use\": \"home\"\n",
      "        }\n",
      "    ],\n",
      "    \"gender\": \"male\",\n",
      "    \"birthDate\": \"1991-01-01\",\n",
      "    \"address\": [\n",
      "        {\n",
      "            \"line\": [\n",
      "                \"3300 Washtenaw\"\n",
      "            ],\n",
      "            \"city\": \"Ann Harbor\",\n",
      "            \"district\": \"Washtenaw\",\n",
      "            \"state\": \"MI\",\n",
      "            \"postalCode\": \"48104\",\n",
      "            \"country\": \"US\"\n",
      "        }\n",
      "    ]\n",
      "}\n"
     ]
    }
   ],
   "source": [
    "fhir_patient = Patient(\n",
    "    identifier=[\n",
    "        Identifier(value='haru.nami')],\n",
    "    name=[\n",
    "        HumanName(\n",
    "            text='Haru Nami',\n",
    "            given=['Haru'],\n",
    "            family='Nami'\n",
    "        )\n",
    "    ],\n",
    "    birthDate='1991-01-01',\n",
    "    gender='male',\n",
    "    telecom=[\n",
    "        ContactPoint(\n",
    "            system='phone',\n",
    "            value='(03) 5555 6789',\n",
    "            use='home'\n",
    "        )\n",
    "    ],\n",
    "    address=[\n",
    "        Address(\n",
    "            line=['3300 Washtenaw'],\n",
    "            city='Ann Harbor',\n",
    "            state='MI',\n",
    "            country='US',\n",
    "            district='Washtenaw',\n",
    "            postalCode='48104'\n",
    "\n",
    "        )\n",
    "    ]\n",
    ")\n",
    "print(fhir_patient.json(indent=4))"
   ]
  }
 ],
 "metadata": {
  "kernelspec": {
   "display_name": ".fhir",
   "language": "python",
   "name": "python3"
  },
  "language_info": {
   "codemirror_mode": {
    "name": "ipython",
    "version": 3
   },
   "file_extension": ".py",
   "mimetype": "text/x-python",
   "name": "python",
   "nbconvert_exporter": "python",
   "pygments_lexer": "ipython3",
   "version": "3.11.5"
  }
 },
 "nbformat": 4,
 "nbformat_minor": 5
}
